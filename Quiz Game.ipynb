{
 "cells": [
  {
   "cell_type": "code",
   "execution_count": 1,
   "id": "e1cdb1ec-892f-4e37-8190-68e5f18e4b59",
   "metadata": {},
   "outputs": [
    {
     "name": "stdout",
     "output_type": "stream",
     "text": [
      "Welcome to my game!\n"
     ]
    }
   ],
   "source": [
    "print('Welcome to my game!')"
   ]
  },
  {
   "cell_type": "code",
   "execution_count": 8,
   "id": "aead7655-e1fb-4d09-919e-b3a98f4692f0",
   "metadata": {},
   "outputs": [
    {
     "name": "stdin",
     "output_type": "stream",
     "text": [
      "Do you want to play?  yes\n"
     ]
    },
    {
     "name": "stdout",
     "output_type": "stream",
     "text": [
      "let's play\n"
     ]
    },
    {
     "name": "stdin",
     "output_type": "stream",
     "text": [
      "What in the capital of france?  paris\n"
     ]
    },
    {
     "name": "stdout",
     "output_type": "stream",
     "text": [
      "correct ;)\n"
     ]
    },
    {
     "name": "stdin",
     "output_type": "stream",
     "text": [
      "What in the capital of italy?  rome\n"
     ]
    },
    {
     "name": "stdout",
     "output_type": "stream",
     "text": [
      "correct ;)\n"
     ]
    },
    {
     "name": "stdin",
     "output_type": "stream",
     "text": [
      "What in thr capital of germany?  berlin\n"
     ]
    },
    {
     "name": "stdout",
     "output_type": "stream",
     "text": [
      "correct ;)\n",
      "Your total score is 3\n"
     ]
    }
   ],
   "source": [
    "playing = input('Do you want to play? ')\n",
    "\n",
    "if playing.lower() != \"yes\":\n",
    "    quit()\n",
    "\n",
    "print(\"let's play\")\n",
    "score = 0\n",
    "\n",
    "answer = input('What in the capital of france? ')\n",
    "\n",
    "if answer.lower() == \"paris\":\n",
    "    print('correct ;)')\n",
    "    score += 1\n",
    "else:\n",
    "    print('incorrect :(')\n",
    "\n",
    "answer = input('What in the capital of italy? ')\n",
    "\n",
    "if answer.lower() == \"rome\":\n",
    "    print('correct ;)')\n",
    "    score += 1\n",
    "else:\n",
    "    print('incorrect :(')\n",
    "\n",
    "answer = input('What in thr capital of germany? ')\n",
    "\n",
    "if answer.lower() == \"berlin\":\n",
    "    print('correct ;)')\n",
    "    score += 1\n",
    "else:\n",
    "    print('incorrect :(')\n",
    "\n",
    "print(f'Your total score is {score}')"
   ]
  },
  {
   "cell_type": "code",
   "execution_count": null,
   "id": "186e0f91-5d20-4de2-a0ac-5e27c2041e6e",
   "metadata": {},
   "outputs": [],
   "source": []
  }
 ],
 "metadata": {
  "kernelspec": {
   "display_name": "Python 3 (ipykernel)",
   "language": "python",
   "name": "python3"
  },
  "language_info": {
   "codemirror_mode": {
    "name": "ipython",
    "version": 3
   },
   "file_extension": ".py",
   "mimetype": "text/x-python",
   "name": "python",
   "nbconvert_exporter": "python",
   "pygments_lexer": "ipython3",
   "version": "3.11.5"
  }
 },
 "nbformat": 4,
 "nbformat_minor": 5
}
